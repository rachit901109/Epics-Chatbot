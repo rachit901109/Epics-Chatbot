{
 "cells": [
  {
   "cell_type": "code",
   "execution_count": 46,
   "id": "510fc82b-7255-4377-8ac6-2327ef7c4c9f",
   "metadata": {},
   "outputs": [],
   "source": [
    "import os\n",
    "from getpass import getpass\n",
    "import warnings\n",
    "warnings.filterwarnings('ignore')\n",
    "\n",
    "from langchain_community.document_loaders.pdf import PyPDFDirectoryLoader\n",
    "from langchain_text_splitters import RecursiveCharacterTextSplitter\n",
    "from langchain_community.embeddings.huggingface import HuggingFaceEmbeddings\n",
    "from langchain_community.vectorstores.faiss import FAISS\n",
    "from langchain.memory import ConversationBufferMemory\n",
    "from langchain.chains.conversational_retrieval.base import ConversationalRetrievalChain\n",
    "from langchain.llms.huggingface_hub import HuggingFaceHub"
   ]
  },
  {
   "cell_type": "code",
   "execution_count": 2,
   "id": "484bf0af-2ae3-4222-baac-59b8a313af52",
   "metadata": {},
   "outputs": [],
   "source": [
    "summary_path = r\"data\\summaries\"\n",
    "\n",
    "loader = PyPDFDirectoryLoader(path=summary_path)\n",
    "docs = loader.load()"
   ]
  },
  {
   "cell_type": "code",
   "execution_count": 26,
   "id": "2ba4cb78-1b92-4f03-87e5-6133c9bf2cb4",
   "metadata": {},
   "outputs": [
    {
     "name": "stdout",
     "output_type": "stream",
     "text": [
      "<class 'list'> 16 <class 'langchain_core.documents.base.Document'>\n"
     ]
    }
   ],
   "source": [
    "print(type(docs), len(docs), type(docs[0]))"
   ]
  },
  {
   "cell_type": "code",
   "execution_count": 27,
   "id": "34010686-d827-4522-ae4d-e65fa0a654cd",
   "metadata": {},
   "outputs": [],
   "source": [
    "text_splitter = RecursiveCharacterTextSplitter(\n",
    "    chunk_size=1200,\n",
    "    chunk_overlap=400,\n",
    "    length_function=len,\n",
    "    add_start_index=True,\n",
    ")\n",
    "\n",
    "chunks = text_splitter.split_documents(docs)"
   ]
  },
  {
   "cell_type": "code",
   "execution_count": 28,
   "id": "173d492e-990d-4f7e-9734-6188bbca63e3",
   "metadata": {},
   "outputs": [
    {
     "name": "stdout",
     "output_type": "stream",
     "text": [
      "<class 'list'> 59 <class 'langchain_core.documents.base.Document'>\n"
     ]
    }
   ],
   "source": [
    "print(type(chunks), len(chunks), type(chunks[0]))"
   ]
  },
  {
   "cell_type": "code",
   "execution_count": 34,
   "id": "4cab0b3a-02d0-4197-a628-398eb2200824",
   "metadata": {},
   "outputs": [],
   "source": [
    "embedding_model = HuggingFaceEmbeddings(model_name=\"all-MiniLM-L6-v2\", encode_kwargs = {'normalize_embeddings': True})\n",
    "\n",
    "faiss = FAISS.from_documents(documents=chunks, embedding=embedding_model)"
   ]
  },
  {
   "cell_type": "code",
   "execution_count": 36,
   "id": "d317e546-7bfc-4df7-a4a6-96566a983a68",
   "metadata": {},
   "outputs": [],
   "source": [
    "relevant_context = faiss.similarity_search_with_relevance_scores(query=\"Who was the wife of king Santanu?\", k=3)"
   ]
  },
  {
   "cell_type": "code",
   "execution_count": 43,
   "id": "8ec7a631-526c-4910-8d51-b6d9d1bc2712",
   "metadata": {},
   "outputs": [
    {
     "name": "stdout",
     "output_type": "stream",
     "text": [
      "Similarity score: 0.35486126656368644\t Source: {'source': 'data\\\\summaries\\\\mahabharat_summary.pdf', 'page': 0, 'start_index': 1598}\n",
      "but only if Satyavathi’s children inherit, leaving poor Bhishma out in the cold.  Bhishma was actually cool with this and said he would remain celibate so that he never had children.  Thus, King Santanu and ferry woman Satyavathi married.  They had two boys: one had no children and died in battle, and one (Vichitravirya) grew to adulthood and married two women (Ambika and Ambalika).  But before either of his wives had children, Vichitravirya died and not long after that King Santanu also died.  Thus, the only surviving member of the royal family was Bhishma who had taken a vow of celibacy and refused to break it.  What Queen Satyavathis had not told anyone that before she was married she had actually been born from a fish and had had an encounter with a sage and given birth to a son named Vyasa.  So even though Vyasa isn’t exactly the heir, he can still kind of inherit.    Everyone agreed that Vyasa should sleep with Vichitravirya’s two wives and their children would inherit.  Ambika gave birth to a boy named Dhritarashtra.  He was a nice enough guy and should have became king, but he was born blind.   Meanwhile, Vichitravirya’s other wife got with Vyasa and she gave birth to a\n",
      "----------------------------------------------------------------------------------------------------\n",
      "Similarity score: 0.3310395727573895\t Source: {'source': 'data\\\\summaries\\\\mahabharat_summary.pdf', 'page': 0, 'start_index': 802}\n",
      "is very confusing (in medias res).  I’ll present the background a bit here just to lay the groundwork.  Background King Santanu married a strange woman he found by the river.  They had many children and she drowned all of them (I told you she was strange).  The king stopped her from downing the last child (a boy).  She then said she was a goddess and that this child was a god but had to remain on earth as punishment for stealing a sacred cow in a past life.  The child was named Devavratha, but to confuse you he is called Bhishma (one of firm vow).  The goddess went back to wherever it is that goddesses go, and the king continued ruling.  One day he fell in love with a woman who ran a ferry; her name was Satyavathi.  King Santanu asked her father if he could marry her, and he said yes, but only if Satyavathi’s children inherit, leaving poor Bhishma out in the cold.  Bhishma was actually cool with this and said he would remain celibate so that he never had children.  Thus, King Santanu and ferry woman Satyavathi married.  They had two boys: one had no children and died in battle, and one (Vichitravirya) grew to adulthood and married two women (Ambika and Ambalika).  But before\n",
      "----------------------------------------------------------------------------------------------------\n",
      "Similarity score: 0.17326815585977007\t Source: {'source': 'data\\\\summaries\\\\ramayan_summary.pdf', 'page': 2, 'start_index': 776}\n",
      "Lakshman went back with Vishvamitra to his hermitage. When they arrived there,  \n",
      " Vishvamitra gave Ram magical weapons and after a bitter fight Ram vanquished the  \n",
      " demoness.  \n",
      " 'Now,' said the sage, 'you will travel with me to the capital of Vaideha, where King Janak  \n",
      " is choosing a husband for his daughter Sita.' This had been the real reason why  \n",
      " Vishvamitra had wanted Ram to leave the court with him for he had known that Ram  \n",
      " would soon defeat the demoness.  \n",
      " Sita was the daughter of the Earth. While she was a baby, she had appeared to King  \n",
      " Janak from a furrow in a ploughed field, and had been brought up as his daughter. Sita  \n",
      " was in fact another incarnation of Lakshmi, the eternal wife of Vishnu in all his  \n",
      " incarnations ; this time she had been reborn to marry Ram. She always left a train of  \n",
      " light in her wake as a mark of her divine origin. She was as delicate and graceful as a  \n",
      " swan: her raven black hair was threaded with pearls. Her forehead was like a  \n",
      " half-moon, golden and glittering with the jewelled ornaments she wore. Her eyebrows  \n",
      " were arched perfectly like a bow and below them glowed fawn-like eyes shaded with\n",
      "----------------------------------------------------------------------------------------------------\n"
     ]
    }
   ],
   "source": [
    "for context in relevant_context:\n",
    "    print(f\"Similarity score: {context[1]}\\t Source: {context[0].metadata}\")\n",
    "    print(context[0].page_content)\n",
    "    print(\"-\"*100)"
   ]
  },
  {
   "cell_type": "code",
   "execution_count": 44,
   "id": "45a97056-5780-4027-9e1a-24ca2983eba9",
   "metadata": {},
   "outputs": [
    {
     "name": "stdin",
     "output_type": "stream",
     "text": [
      " ········\n"
     ]
    }
   ],
   "source": [
    "HUGGINGFACEHUB_API_TOKEN = getpass()"
   ]
  },
  {
   "cell_type": "code",
   "execution_count": 45,
   "id": "70c12f17-c7e3-45ec-b35a-bb0690a9bc3b",
   "metadata": {},
   "outputs": [],
   "source": [
    "os.environ[\"HUGGINGFACEHUB_API_TOKEN\"] = HUGGINGFACEHUB_API_TOKEN"
   ]
  },
  {
   "cell_type": "code",
   "execution_count": 47,
   "id": "9bcd20ef-d6ac-4378-bcc9-a31cc27aacf9",
   "metadata": {},
   "outputs": [],
   "source": [
    "def get_conversation_chain(vector_store):\n",
    "    repo_id=\"google/gemma-1.1-2b-it\"\n",
    "    llm = HuggingFaceHub(repo_id=repo_id, huggingfacehub_api_token=HUGGINGFACEHUB_API_TOKEN,  model_kwargs={'temperature':0.5, 'max_length':128})\n",
    "    memory = ConversationBufferMemory(memory_key='chat_history', return_messages=True)\n",
    "    retriever = vector_store.as_retriever()\n",
    "    conv_chain = ConversationalRetrievalChain.from_llm(\n",
    "        llm=llm,\n",
    "        retriever=retriever,\n",
    "        memory=memory,\n",
    "    )\n",
    "    return conv_chain"
   ]
  },
  {
   "cell_type": "code",
   "execution_count": 49,
   "id": "4ac4a77c-f59a-46fd-8bab-be15d5a62656",
   "metadata": {},
   "outputs": [
    {
     "name": "stderr",
     "output_type": "stream",
     "text": [
      "C:\\Users\\rachi\\AppData\\Local\\Programs\\Python\\Python310\\lib\\site-packages\\langchain_core\\_api\\deprecation.py:117: LangChainDeprecationWarning: The class `langchain_community.llms.huggingface_hub.HuggingFaceHub` was deprecated in langchain-community 0.0.21 and will be removed in 0.2.0. Use HuggingFaceEndpoint instead.\n",
      "  warn_deprecated(\n"
     ]
    }
   ],
   "source": [
    "conversation_chain = get_conversation_chain(faiss)"
   ]
  },
  {
   "cell_type": "code",
   "execution_count": 50,
   "id": "9e3d8fdf-0ef6-411b-aee2-452751ca1ba9",
   "metadata": {},
   "outputs": [
    {
     "name": "stderr",
     "output_type": "stream",
     "text": [
      "C:\\Users\\rachi\\AppData\\Local\\Programs\\Python\\Python310\\lib\\site-packages\\langchain_core\\_api\\deprecation.py:117: LangChainDeprecationWarning: The function `__call__` was deprecated in LangChain 0.1.0 and will be removed in 0.2.0. Use invoke instead.\n",
      "  warn_deprecated(\n"
     ]
    }
   ],
   "source": [
    "query = \"Who was king Santanu's second wife and who were their childrens?\"\n",
    "response = conversation_chain({'question':query})"
   ]
  },
  {
   "cell_type": "code",
   "execution_count": 51,
   "id": "ea9d862a-aefb-48f1-9ac8-9733fab8f531",
   "metadata": {},
   "outputs": [
    {
     "name": "stdout",
     "output_type": "stream",
     "text": [
      "==================================\u001b[1m Ai Message \u001b[0m==================================\n",
      "\n",
      "Use the following pieces of context to answer the question at the end. If you don't know the answer, just say that you don't know, don't try to make up an answer.\n",
      "\n",
      "but only if Satyavathi’s children inherit, leaving poor Bhishma out in the cold.  Bhishma was actually cool with this and said he would remain celibate so that he never had children.  Thus, King Santanu and ferry woman Satyavathi married.  They had two boys: one had no children and died in battle, and one (Vichitravirya) grew to adulthood and married two women (Ambika and Ambalika).  But before either of his wives had children, Vichitravirya died and not long after that King Santanu also died.  Thus, the only surviving member of the royal family was Bhishma who had taken a vow of celibacy and refused to break it.  What Queen Satyavathis had not told anyone that before she was married she had actually been born from a fish and had had an encounter with a sage and given birth to a son named Vyasa.  So even though Vyasa isn’t exactly the heir, he can still kind of inherit.    Everyone agreed that Vyasa should sleep with Vichitravirya’s two wives and their children would inherit.  Ambika gave birth to a boy named Dhritarashtra.  He was a nice enough guy and should have became king, but he was born blind.   Meanwhile, Vichitravirya’s other wife got with Vyasa and she gave birth to a\n",
      "\n",
      "is very confusing (in medias res).  I’ll present the background a bit here just to lay the groundwork.  Background King Santanu married a strange woman he found by the river.  They had many children and she drowned all of them (I told you she was strange).  The king stopped her from downing the last child (a boy).  She then said she was a goddess and that this child was a god but had to remain on earth as punishment for stealing a sacred cow in a past life.  The child was named Devavratha, but to confuse you he is called Bhishma (one of firm vow).  The goddess went back to wherever it is that goddesses go, and the king continued ruling.  One day he fell in love with a woman who ran a ferry; her name was Satyavathi.  King Santanu asked her father if he could marry her, and he said yes, but only if Satyavathi’s children inherit, leaving poor Bhishma out in the cold.  Bhishma was actually cool with this and said he would remain celibate so that he never had children.  Thus, King Santanu and ferry woman Satyavathi married.  They had two boys: one had no children and died in battle, and one (Vichitravirya) grew to adulthood and married two women (Ambika and Ambalika).  But before\n",
      "\n",
      "and fair, but Dasharat had a deep sadness in him for in spite of marrying three times he  \n",
      " had no heir. His wives, princesses from important kingdoms, all remained childless. One  \n",
      " day, Vasishta the court sage advised Dasharat to perform a sacrifice in order to obtain a  \n",
      " son.  \n",
      " A sacrificial fire was lit and Vasishta began performing the ceremonial rituals. As he  \n",
      " prayed, the flames leaped high into the air and a human form emerged from the fire.  \n",
      " Nobody realized that it was Vishnu the Restorer. 'Give this to your three queens,'  \n",
      " Vishnu said to Dasharat and handed him a bowl full of nectar, 'and they will bear you  \n",
      " sons.' Dasharat fell to his knees and thanked the god and rushed to give the precious  \n",
      " food to his wives. Not long afterwards Kaushaliya, his first queen, gave birth to a son  \n",
      " who was named Rama-Chandra. The second queen, Kaikeyi, gave birth to Bharat; and  \n",
      " Sumitra, the youngest queen, gave birth to the twins Lakshman and Shatrughan.  \n",
      " As the boys grew, Rama-chandra proved himself highly skilled in the ways of kings and  \n",
      " was equally adept in the skills of the warrior. He resembled the supreme spirit Vishnu,\n",
      "\n",
      "Vyasa.  So even though Vyasa isn’t exactly the heir, he can still kind of inherit.    Everyone agreed that Vyasa should sleep with Vichitravirya’s two wives and their children would inherit.  Ambika gave birth to a boy named Dhritarashtra.  He was a nice enough guy and should have became king, but he was born blind.   Meanwhile, Vichitravirya’s other wife got with Vyasa and she gave birth to a boy named Pandu.  Dhritarashtra, being blind, realizes he can’t really rule, so he gives his kingdom to his brother Pandu.\n",
      "\n",
      "Question: Who was king Santanu's second wife and who were their childrens?\n",
      "Helpful Answer: Satyavathi's daughter, Ambika, gave birth to a boy named Dhritarashtra.\n"
     ]
    }
   ],
   "source": [
    "response['chat_history'][1].pretty_print()"
   ]
  },
  {
   "cell_type": "code",
   "execution_count": 52,
   "id": "f51e4f33-924a-4ca7-9a4f-3c835b4c71f5",
   "metadata": {},
   "outputs": [],
   "source": [
    "query = \"So what happened to the second child of santanu and satyavathi (Ambalika)?\"\n",
    "response = conversation_chain({'question':query})"
   ]
  },
  {
   "cell_type": "code",
   "execution_count": 53,
   "id": "72c0eda8-a890-4a65-91f6-830c2857cce5",
   "metadata": {},
   "outputs": [
    {
     "name": "stdout",
     "output_type": "stream",
     "text": [
      "==================================\u001b[1m Ai Message \u001b[0m==================================\n",
      "\n",
      "Use the following pieces of context to answer the question at the end. If you don't know the answer, just say that you don't know, don't try to make up an answer.\n",
      "\n",
      "but only if Satyavathi’s children inherit, leaving poor Bhishma out in the cold.  Bhishma was actually cool with this and said he would remain celibate so that he never had children.  Thus, King Santanu and ferry woman Satyavathi married.  They had two boys: one had no children and died in battle, and one (Vichitravirya) grew to adulthood and married two women (Ambika and Ambalika).  But before either of his wives had children, Vichitravirya died and not long after that King Santanu also died.  Thus, the only surviving member of the royal family was Bhishma who had taken a vow of celibacy and refused to break it.  What Queen Satyavathis had not told anyone that before she was married she had actually been born from a fish and had had an encounter with a sage and given birth to a son named Vyasa.  So even though Vyasa isn’t exactly the heir, he can still kind of inherit.    Everyone agreed that Vyasa should sleep with Vichitravirya’s two wives and their children would inherit.  Ambika gave birth to a boy named Dhritarashtra.  He was a nice enough guy and should have became king, but he was born blind.   Meanwhile, Vichitravirya’s other wife got with Vyasa and she gave birth to a\n",
      "\n",
      "is very confusing (in medias res).  I’ll present the background a bit here just to lay the groundwork.  Background King Santanu married a strange woman he found by the river.  They had many children and she drowned all of them (I told you she was strange).  The king stopped her from downing the last child (a boy).  She then said she was a goddess and that this child was a god but had to remain on earth as punishment for stealing a sacred cow in a past life.  The child was named Devavratha, but to confuse you he is called Bhishma (one of firm vow).  The goddess went back to wherever it is that goddesses go, and the king continued ruling.  One day he fell in love with a woman who ran a ferry; her name was Satyavathi.  King Santanu asked her father if he could marry her, and he said yes, but only if Satyavathi’s children inherit, leaving poor Bhishma out in the cold.  Bhishma was actually cool with this and said he would remain celibate so that he never had children.  Thus, King Santanu and ferry woman Satyavathi married.  They had two boys: one had no children and died in battle, and one (Vichitravirya) grew to adulthood and married two women (Ambika and Ambalika).  But before\n",
      "\n",
      "Vyasa.  So even though Vyasa isn’t exactly the heir, he can still kind of inherit.    Everyone agreed that Vyasa should sleep with Vichitravirya’s two wives and their children would inherit.  Ambika gave birth to a boy named Dhritarashtra.  He was a nice enough guy and should have became king, but he was born blind.   Meanwhile, Vichitravirya’s other wife got with Vyasa and she gave birth to a boy named Pandu.  Dhritarashtra, being blind, realizes he can’t really rule, so he gives his kingdom to his brother Pandu.\n",
      "\n",
      "and fair, but Dasharat had a deep sadness in him for in spite of marrying three times he  \n",
      " had no heir. His wives, princesses from important kingdoms, all remained childless. One  \n",
      " day, Vasishta the court sage advised Dasharat to perform a sacrifice in order to obtain a  \n",
      " son.  \n",
      " A sacrificial fire was lit and Vasishta began performing the ceremonial rituals. As he  \n",
      " prayed, the flames leaped high into the air and a human form emerged from the fire.  \n",
      " Nobody realized that it was Vishnu the Restorer. 'Give this to your three queens,'  \n",
      " Vishnu said to Dasharat and handed him a bowl full of nectar, 'and they will bear you  \n",
      " sons.' Dasharat fell to his knees and thanked the god and rushed to give the precious  \n",
      " food to his wives. Not long afterwards Kaushaliya, his first queen, gave birth to a son  \n",
      " who was named Rama-Chandra. The second queen, Kaikeyi, gave birth to Bharat; and  \n",
      " Sumitra, the youngest queen, gave birth to the twins Lakshman and Shatrughan.  \n",
      " As the boys grew, Rama-chandra proved himself highly skilled in the ways of kings and  \n",
      " was equally adept in the skills of the warrior. He resembled the supreme spirit Vishnu,\n",
      "\n",
      "Question: Given the following conversation and a follow up question, rephrase the follow up question to be a standalone question, in its original language.\n",
      "\n",
      "Chat History:\n",
      "\n",
      "Human: Who was king Santanu's second wife and who were their childrens?\n",
      "Assistant: Use the following pieces of context to answer the question at the end. If you don't know the answer, just say that you don't know, don't try to make up an answer.\n",
      "\n",
      "but only if Satyavathi’s children inherit, leaving poor Bhishma out in the cold.  Bhishma was actually cool with this and said he would remain celibate so that he never had children.  Thus, King Santanu and ferry woman Satyavathi married.  They had two boys: one had no children and died in battle, and one (Vichitravirya) grew to adulthood and married two women (Ambika and Ambalika).  But before either of his wives had children, Vichitravirya died and not long after that King Santanu also died.  Thus, the only surviving member of the royal family was Bhishma who had taken a vow of celibacy and refused to break it.  What Queen Satyavathis had not told anyone that before she was married she had actually been born from a fish and had had an encounter with a sage and given birth to a son named Vyasa.  So even though Vyasa isn’t exactly the heir, he can still kind of inherit.    Everyone agreed that Vyasa should sleep with Vichitravirya’s two wives and their children would inherit.  Ambika gave birth to a boy named Dhritarashtra.  He was a nice enough guy and should have became king, but he was born blind.   Meanwhile, Vichitravirya’s other wife got with Vyasa and she gave birth to a\n",
      "\n",
      "is very confusing (in medias res).  I’ll present the background a bit here just to lay the groundwork.  Background King Santanu married a strange woman he found by the river.  They had many children and she drowned all of them (I told you she was strange).  The king stopped her from downing the last child (a boy).  She then said she was a goddess and that this child was a god but had to remain on earth as punishment for stealing a sacred cow in a past life.  The child was named Devavratha, but to confuse you he is called Bhishma (one of firm vow).  The goddess went back to wherever it is that goddesses go, and the king continued ruling.  One day he fell in love with a woman who ran a ferry; her name was Satyavathi.  King Santanu asked her father if he could marry her, and he said yes, but only if Satyavathi’s children inherit, leaving poor Bhishma out in the cold.  Bhishma was actually cool with this and said he would remain celibate so that he never had children.  Thus, King Santanu and ferry woman Satyavathi married.  They had two boys: one had no children and died in battle, and one (Vichitravirya) grew to adulthood and married two women (Ambika and Ambalika).  But before\n",
      "\n",
      "and fair, but Dasharat had a deep sadness in him for in spite of marrying three times he  \n",
      " had no heir. His wives, princesses from important kingdoms, all remained childless. One  \n",
      " day, Vasishta the court sage advised Dasharat to perform a sacrifice in order to obtain a  \n",
      " son.  \n",
      " A sacrificial fire was lit and Vasishta began performing the ceremonial rituals. As he  \n",
      " prayed, the flames leaped high into the air and a human form emerged from the fire.  \n",
      " Nobody realized that it was Vishnu the Restorer. 'Give this to your three queens,'  \n",
      " Vishnu said to Dasharat and handed him a bowl full of nectar, 'and they will bear you  \n",
      " sons.' Dasharat fell to his knees and thanked the god and rushed to give the precious  \n",
      " food to his wives. Not long afterwards Kaushaliya, his first queen, gave birth to a son  \n",
      " who was named Rama-Chandra. The second queen, Kaikeyi, gave birth to Bharat; and  \n",
      " Sumitra, the youngest queen, gave birth to the twins Lakshman and Shatrughan.  \n",
      " As the boys grew, Rama-chandra proved himself highly skilled in the ways of kings and  \n",
      " was equally adept in the skills of the warrior. He resembled the supreme spirit Vishnu,\n",
      "\n",
      "Vyasa.  So even though Vyasa isn’t exactly the heir, he can still kind of inherit.    Everyone agreed that Vyasa should sleep with Vichitravirya’s two wives and their children would inherit.  Ambika gave birth to a boy named Dhritarashtra.  He was a nice enough guy and should have became king, but he was born blind.   Meanwhile, Vichitravirya’s other wife got with Vyasa and she gave birth to a boy named Pandu.  Dhritarashtra, being blind, realizes he can’t really rule, so he gives his kingdom to his brother Pandu.\n",
      "\n",
      "Question: Who was king Santanu's second wife and who were their childrens?\n",
      "Helpful Answer: Satyavathi's daughter, Ambika, gave birth to a boy named Dhritarashtra.\n",
      "Follow Up Input: So what happened to the second child of santanu and satyavathi (Ambalika)?\n",
      "Standalone question: What happened to Ambalika?\n",
      "Helpful Answer: The provided text does not specify what happened to Ambalika, so I cannot answer this question from the provided context.\n"
     ]
    }
   ],
   "source": [
    "response['chat_history'][3].pretty_print()"
   ]
  },
  {
   "cell_type": "code",
   "execution_count": null,
   "id": "5ea7eed5-347d-419f-b526-946baa4681ef",
   "metadata": {},
   "outputs": [],
   "source": []
  }
 ],
 "metadata": {
  "kernelspec": {
   "display_name": "Python 3 (ipykernel)",
   "language": "python",
   "name": "python3"
  },
  "language_info": {
   "codemirror_mode": {
    "name": "ipython",
    "version": 3
   },
   "file_extension": ".py",
   "mimetype": "text/x-python",
   "name": "python",
   "nbconvert_exporter": "python",
   "pygments_lexer": "ipython3",
   "version": "3.10.8"
  }
 },
 "nbformat": 4,
 "nbformat_minor": 5
}
